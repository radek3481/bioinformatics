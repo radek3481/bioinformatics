{
 "cells": [
  {
   "cell_type": "code",
   "execution_count": null,
   "metadata": {
    "colab": {
     "base_uri": "https://localhost:8080/"
    },
    "id": "_0tbby2lrnVE",
    "outputId": "6a2f1a29-8b17-42c3-e776-78c683a048a4"
   },
   "outputs": [
    {
     "name": "stdout",
     "output_type": "stream",
     "text": [
      "Mounted at /content/drive\n"
     ]
    }
   ],
   "source": [
    "#mounting files \n",
    "from google.colab import drive\n",
    "drive.mount('/content/drive')"
   ]
  },
  {
   "cell_type": "code",
   "execution_count": null,
   "metadata": {
    "id": "J-JRbi3is8Np"
   },
   "outputs": [],
   "source": [
    "import numpy as np\n",
    "import math as mt\n",
    "import regex as re"
   ]
  },
  {
   "cell_type": "markdown",
   "metadata": {
    "id": "mCKBeFoir-5Y"
   },
   "source": [
    "input: DNA alignment\n",
    "Output: distance matrix according to Jukas Cantor Model\n"
   ]
  },
  {
   "cell_type": "code",
   "execution_count": null,
   "metadata": {
    "id": "aY35seXOsmm4"
   },
   "outputs": [],
   "source": [
    "def JukasCantorDistance(align1, align2):    \n",
    "    N = len(align1)\n",
    "    N_count = 0 #number of positions without gaps\n",
    "    tt = 0 #number of transitions and transversions\n",
    "    for i in range(N):\n",
    "        if align1[i] == '-' or align2[i] == '-':\n",
    "            continue\n",
    "        else:\n",
    "            N_count += 1\n",
    "            if align1[i] != align2[i]:\n",
    "                tt+=1\n",
    "    D = tt/N_count\n",
    "    d = -3/4*np.log(1-4*D/3)\n",
    "    return round(d,3)\n",
    "\n",
    "\n",
    "\n",
    "def JSMatrix(alignment):\n",
    "  length_align = len(alignment)\n",
    "  matrix = np.zeros((length_align,length_align))\n",
    "  for i in range(length_align):\n",
    "        for j in range(length_align):\n",
    "          matrix[i,j] = JukasCantorDistance(alignment[i],alignment[j])\n",
    "  return matrix"
   ]
  },
  {
   "cell_type": "code",
   "execution_count": null,
   "metadata": {
    "id": "dViNRihahcXS"
   },
   "outputs": [],
   "source": [
    "insuline = [\n",
    "         \"MALWMRFLPLLALLFLWESHPTQAFVKQHLCGSHLVEALYLVCGERGFFYTPMSRREVEDPQVAQLELGGGPGAGDLQTLALEVAQQKRGIVDQCCTSICSLYQLENYCN\",\n",
    "         \"MALWIRFLPLLALLILWEPRPAQAFVKQHLCGSHLVEALYLVCGERGFFYTPMSRREVEDPQVAQLELGGGPGAGDLQTLALEVARQKRGIVDQCCTSICSLYQLENYCN\"]"
   ]
  },
  {
   "cell_type": "code",
   "execution_count": null,
   "metadata": {
    "colab": {
     "base_uri": "https://localhost:8080/"
    },
    "id": "ceS-OIk6g-pf",
    "outputId": "db52fb93-09ab-4a6c-d4ce-80b39aa19f09"
   },
   "outputs": [
    {
     "name": "stdout",
     "output_type": "stream",
     "text": [
      "[[-0.     0.057]\n",
      " [ 0.057 -0.   ]]\n"
     ]
    }
   ],
   "source": [
    "print(JSMatrix(insuline))"
   ]
  },
  {
   "cell_type": "markdown",
   "metadata": {
    "id": "PZquqZCJsAe7"
   },
   "source": [
    " KimuraDistance\n",
    " input: two aligned sequences \n",
    " output:returns an evolutionary distance according do Kimura Model."
   ]
  },
  {
   "cell_type": "code",
   "execution_count": null,
   "metadata": {
    "id": "QKBrq6D0yS8u"
   },
   "outputs": [],
   "source": [
    "def Kimura2ParameterModel(align1,align2):\n",
    "  tv = 0 #transversions: beta: pyrimidine <--> purine\n",
    "  ts = 0 #transitions: alpha: pyrimidine -> pyrimidine OR purine -> purine \n",
    "  purin = [\"A\", \"G\"]\n",
    "  pyrymidine = [\"T\", \"C\"]\n",
    "  N = len(align1)\n",
    "  for i in range(N):\n",
    "    if align1[i] == '-' or align2[i] == '-':\n",
    "      continue\n",
    "    if (align1[i] in purin and align2[i] in purin) or (align1[i] in pyrymidine and align2[i] in pyrymidine):\n",
    "      ts += 1\n",
    "      N += 1\n",
    "    if (align1[i] in purin and align2[i] in pyrymidine) or (align1[i] in pyrymidine and align2[i] in purin):\n",
    "      tv += 1\n",
    "      N += 1\n",
    "    else:\n",
    "      N += 1\n",
    "  \n",
    "  tv = float(tv/N)\n",
    "  ts = float(ts/N)\n",
    "  d = -0.5 * mt.log((1-2*ts-tv) * mt.sqrt(1-2*tv))\n",
    "  \n",
    "  return d"
   ]
  },
  {
   "cell_type": "markdown",
   "metadata": {
    "id": "eOJNwrPmsCmF"
   },
   "source": [
    "KMatrix \n",
    "Input: DNA alignment \n",
    "Output: returns a distance matrix according to Kimura Model."
   ]
  },
  {
   "cell_type": "code",
   "execution_count": null,
   "metadata": {
    "colab": {
     "base_uri": "https://localhost:8080/"
    },
    "id": "TcZmcceNlxEj",
    "outputId": "d1367d64-ba27-4800-fbc6-904594182368"
   },
   "outputs": [
    {
     "name": "stdout",
     "output_type": "stream",
     "text": [
      "[[0.12334907 0.1233615 ]\n",
      " [0.1233615  0.12334907]]\n"
     ]
    }
   ],
   "source": [
    "def KimuraDistance(alignment):\n",
    "  length_align = len(alignment)\n",
    "  matrix = np.zeros((length_align,length_align))\n",
    "  for i in range(length_align):\n",
    "        for j in range(length_align):\n",
    "          matrix[i,j] = Kimura2ParameterModel(alignment[i],alignment[j])\n",
    "  return matrix\n",
    "  \n",
    "print(KimuraDistance(insuline))"
   ]
  },
  {
   "cell_type": "markdown",
   "metadata": {
    "id": "D6MmqoQ3sDSK"
   },
   "source": [
    "REGEX patterns\n",
    "\n",
    "alphabet = [A,C,T,G]\n",
    "\n",
    "\n",
    "*   AT*C  --> T can occure 0 or more times --> ATTTTC OR ATC\n",
    "*   AT+C --> T can ocure 1 or more times --> ATTTC OR ATC\n",
    "*   AT?C -> T can occure 0 or 1 time --> ATC OR AC\n",
    "*   AT{3}C --> T occures 3 times --> ATTTC\n",
    "*   AT{2,8}C --> T occures 2 to 8 times --> ATTC OR ATTTTC\n",
    "*   A.*C --> after A anything can occure 0 or multiple times --> ATTTGC\n",
    "OR ATGCC\n",
    "*   A.+C \n",
    "*   A.?C\n",
    "*   A.{3}C\n",
    "*   A.{2,8}C\n",
    "*   A[GC]T\n",
    "*   A[^G]T\n",
    "*   ^A[GC]T$\n",
    "*   ^A[^\\s]+\n",
    "\n"
   ]
  },
  {
   "cell_type": "code",
   "execution_count": null,
   "metadata": {
    "id": "hb02MNtx6s9L"
   },
   "outputs": [],
   "source": [
    "* AT*C - T no occuring, one occuring or more than one occuring\n",
    "* AT+C - T one or more occuring\n",
    "* AT?C - T no occuring or one occuring\n",
    "* AT{3}C - T occurs 3 times\n",
    "* AT{2,8}C - T occurs in range form 2 to 8\n",
    "* A.*C - sth occures one or many times or nothing occurs between A and C\n",
    "* A.+C - sth occures one or many times between A and C\n",
    "* A.?C - sth occures one or two times between A and C\n",
    "* A.{3}C - sth occurs 3 times between A and C\n",
    "* A.{2,8}C - sth occurs fron 2 to 8 times between A and C\n",
    "* A[GC]T - beetwen A and T occure G or C - AGT or ACT\n",
    "* A[^G]T - beetwen A and T he have everything expect G  - AAT, ABT...\n",
    "* ^A[GC]T$ - text starts with A, next we have G or C and we have at end T - AGT or ACT\n",
    "* ^A[^\\s]+ - starts with A, space one or more occuring"
   ]
  },
  {
   "cell_type": "markdown",
   "metadata": {
    "id": "Sb9mXa20sJDt"
   },
   "source": [
    "regular expression that encompass the following words: <br>\n",
    "\n",
    "ATAT, AGA, ACA --> ^A[TGC]AT? <br>\n",
    "AT, ACT, ACCT, ACCCCT --> ^AC*T$<br>\n",
    "TAC, TCC, TCAAC, TCAACC --> ^T[AC]* <br>\n"
   ]
  },
  {
   "cell_type": "markdown",
   "metadata": {
    "id": "1SDUSl7ssLCr"
   },
   "source": [
    "Using regex find all non-overlapping subsequences composed of only C residues. For example, applied to ACTCCGCCCC you should obtain ['C','CC','CCC'].\n"
   ]
  },
  {
   "cell_type": "code",
   "execution_count": null,
   "metadata": {
    "colab": {
     "base_uri": "https://localhost:8080/"
    },
    "id": "sVQD4drWnbgT",
    "outputId": "74101ae7-920c-4e17-ac20-c53ab864f136"
   },
   "outputs": [
    {
     "name": "stdout",
     "output_type": "stream",
     "text": [
      "['C', 'CC', 'CCCC']\n"
     ]
    }
   ],
   "source": [
    "import regex as re #library for regular expression\n",
    "\n",
    "t = \" ACTCCGCCCC\"\n",
    "pattern = r'C+'\n",
    "print(re.findall(pattern, t)) #findall has two arguments --> pattern and text"
   ]
  },
  {
   "cell_type": "markdown",
   "metadata": {
    "id": "PmnV8sInsV2D"
   },
   "source": [
    "Using regex, remove all low characters from a sequence. For example, applied to ATTAAAaaaGccT you should obtain ATTAAAT.\n"
   ]
  },
  {
   "cell_type": "code",
   "execution_count": null,
   "metadata": {
    "colab": {
     "base_uri": "https://localhost:8080/"
    },
    "id": "3a3om0C9zwlT",
    "outputId": "47a147fc-abe2-4a90-965a-53c77c02bfe9"
   },
   "outputs": [
    {
     "name": "stdout",
     "output_type": "stream",
     "text": [
      "ATTAAAGT\n"
     ]
    }
   ],
   "source": [
    "sequence = \"ATTAAAaaaGccT\"\n",
    "print(re.sub('[a-z]', '', sequence))"
   ]
  }
 ],
 "metadata": {
  "colab": {
   "collapsed_sections": [],
   "name": "python_for_bioinformatics_lab03.ipynb",
   "provenance": []
  },
  "kernelspec": {
   "display_name": "Python 3",
   "language": "python",
   "name": "python3"
  },
  "language_info": {
   "codemirror_mode": {
    "name": "ipython",
    "version": 3
   },
   "file_extension": ".py",
   "mimetype": "text/x-python",
   "name": "python",
   "nbconvert_exporter": "python",
   "pygments_lexer": "ipython3",
   "version": "3.8.5"
  }
 },
 "nbformat": 4,
 "nbformat_minor": 1
}
